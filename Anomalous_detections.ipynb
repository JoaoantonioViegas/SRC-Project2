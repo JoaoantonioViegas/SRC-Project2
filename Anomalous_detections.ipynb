{
 "cells": [
  {
   "cell_type": "code",
   "execution_count": 2,
   "metadata": {},
   "outputs": [
    {
     "name": "stdout",
     "output_type": "stream",
     "text": [
      "PT AS1930 Fundacao para a Ciencia e a Tecnologia, I.P.\n",
      "193.136.173.58\n",
      "dns.ua.pt.\n",
      "16833951313\n",
      "16378.306817341558\n",
      "8664.0\n",
      "1172915.7149008764\n"
     ]
    }
   ],
   "source": [
    "import pandas as pd\n",
    "import numpy as np\n",
    "import ipaddress\n",
    "import dns.resolver\n",
    "import dns.reversename\n",
    "import pygeoip\n",
    "import matplotlib.pyplot as plt \n",
    "\n",
    "anomalous_datafile='test5.parquet'\n",
    "normal_datafile='data5.parquet'\n",
    "\n",
    "### IP geolocalization\n",
    "gi=pygeoip.GeoIP('./GeoIP.dat')\n",
    "gi2=pygeoip.GeoIP('./GeoIPASNum.dat')\n",
    "addr='193.136.73.21'\n",
    "cc=gi.country_code_by_addr(addr)\n",
    "org=gi2.org_by_addr(addr)\n",
    "print(cc,org)\n",
    "\n",
    "### DNS resolution\n",
    "addr=dns.resolver.resolve(\"www.ua.pt\", 'A')\n",
    "for a in addr:\n",
    "    print(a)\n",
    "    \n",
    "### Reverse DNS resolution    \n",
    "name=dns.reversename.from_address(\"193.136.172.20\")\n",
    "addr=dns.resolver.resolve(name, 'PTR')\n",
    "for a in addr:\n",
    "    print(a)\n",
    "\n",
    "### Read parquet data files\n",
    "anamalous_data=pd.read_parquet(anomalous_datafile)\n",
    "normal_data=pd.read_parquet(normal_datafile)\n",
    "\n",
    "# Volume of traffic per Upload\n",
    "# Average number of uploaded bytes per flow\n",
    "\n",
    "# Sum all the up_bytes in the column up_bytes\n",
    "sumUpBytes=anamalous_data['up_bytes'].sum()\n",
    "print(sumUpBytes)\n",
    "\n",
    "# Calculate the average of the up_bytes in the column up_bytes\n",
    "avgUpBytes=anamalous_data['up_bytes'].mean()\n",
    "print(avgUpBytes)\n",
    "\n",
    "# Calculate the median of the up_bytes in the column up_bytes\n",
    "medianUpBytes=anamalous_data['up_bytes'].median()\n",
    "print(medianUpBytes)\n",
    "\n",
    "# Calculate the standard deviation of the up_bytes in the column up_bytes\n",
    "stdUpBytes=anamalous_data['up_bytes'].std()\n",
    "print(stdUpBytes)"
   ]
  },
  {
   "cell_type": "code",
   "execution_count": 4,
   "metadata": {},
   "outputs": [],
   "source": [
    "### Read parquet data files\n",
    "anomalous_data=pd.read_parquet(anomalous_datafile)\n",
    "normal_data=pd.read_parquet(normal_datafile)\n",
    "\n",
    "normal = normal_data[['up_bytes','down_bytes']].describe()\n",
    "anomal = anamalous_data[['up_bytes','down_bytes']].describe()"
   ]
  },
  {
   "cell_type": "code",
   "execution_count": 4,
   "metadata": {},
   "outputs": [],
   "source": [
    "# Para o método do desvio padrão\n",
    "mean_up = normal_data['up_bytes'].mean()\n",
    "std_up = normal_data['up_bytes'].std()\n",
    "threshold_up = mean_up + 3*std_up\n",
    "\n",
    "mean_down = normal_data['down_bytes'].mean()\n",
    "std_down = normal_data['down_bytes'].std()\n",
    "threshold_down = mean_down + 3*std_down\n",
    "\n",
    "# Para o método IQR\n",
    "Q1_up = normal_data['up_bytes'].quantile(0.25)\n",
    "Q3_up = normal_data['up_bytes'].quantile(0.75)\n",
    "IQR_up = Q3_up - Q1_up\n",
    "lower_bound_up = Q1_up - 1.5*IQR_up\n",
    "upper_bound_up = Q3_up + 1.5*IQR_up\n",
    "\n",
    "Q1_down = normal_data['down_bytes'].quantile(0.25)\n",
    "Q3_down = normal_data['down_bytes'].quantile(0.75)\n",
    "IQR_down = Q3_down - Q1_down\n",
    "lower_bound_down = Q1_down - 1.5*IQR_down\n",
    "upper_bound_down = Q3_down + 1.5*IQR_down\n"
   ]
  },
  {
   "cell_type": "code",
   "execution_count": 11,
   "metadata": {},
   "outputs": [
    {
     "name": "stderr",
     "output_type": "stream",
     "text": [
      "/tmp/ipykernel_129368/719860936.py:7: SettingWithCopyWarning: \n",
      "A value is trying to be set on a copy of a slice from a DataFrame.\n",
      "Try using .loc[row_indexer,col_indexer] = value instead\n",
      "\n",
      "See the caveats in the documentation: https://pandas.pydata.org/pandas-docs/stable/user_guide/indexing.html#returning-a-view-versus-a-copy\n",
      "  anomalies_up['dst_country'] = anomalies_up['dst_ip'].apply(lambda x: gi.country_code_by_addr(x))\n",
      "/tmp/ipykernel_129368/719860936.py:8: SettingWithCopyWarning: \n",
      "A value is trying to be set on a copy of a slice from a DataFrame.\n",
      "Try using .loc[row_indexer,col_indexer] = value instead\n",
      "\n",
      "See the caveats in the documentation: https://pandas.pydata.org/pandas-docs/stable/user_guide/indexing.html#returning-a-view-versus-a-copy\n",
      "  anomalies_up['dst_org'] = anomalies_up['dst_ip'].apply(lambda x: gi2.org_by_addr(x))\n",
      "/tmp/ipykernel_129368/719860936.py:12: SettingWithCopyWarning: \n",
      "A value is trying to be set on a copy of a slice from a DataFrame.\n",
      "Try using .loc[row_indexer,col_indexer] = value instead\n",
      "\n",
      "See the caveats in the documentation: https://pandas.pydata.org/pandas-docs/stable/user_guide/indexing.html#returning-a-view-versus-a-copy\n",
      "  anomalies_down['dst_country'] = anomalies_down['dst_ip'].apply(lambda x: gi.country_code_by_addr(x))\n",
      "/tmp/ipykernel_129368/719860936.py:13: SettingWithCopyWarning: \n",
      "A value is trying to be set on a copy of a slice from a DataFrame.\n",
      "Try using .loc[row_indexer,col_indexer] = value instead\n",
      "\n",
      "See the caveats in the documentation: https://pandas.pydata.org/pandas-docs/stable/user_guide/indexing.html#returning-a-view-versus-a-copy\n",
      "  anomalies_down['dst_org'] = anomalies_down['dst_ip'].apply(lambda x: gi2.org_by_addr(x))\n"
     ]
    }
   ],
   "source": [
    "# Carregando o conjunto de dados de teste\n",
    "test_data = pd.read_parquet('test5.parquet')\n",
    "\n",
    "# Identificando anomalias\n",
    "anomalies_up = test_data[(test_data['up_bytes'] > threshold_up) | (test_data['up_bytes'] < lower_bound_up) | (test_data['up_bytes'] > upper_bound_up)]\n",
    "# in the table anomalies_up add the countries and organizations from source IP and destination IP\n",
    "anomalies_up['dst_country'] = anomalies_up['dst_ip'].apply(lambda x: gi.country_code_by_addr(x))\n",
    "anomalies_up['dst_org'] = anomalies_up['dst_ip'].apply(lambda x: gi2.org_by_addr(x))\n",
    "\n",
    "anomalies_down = test_data[(test_data['down_bytes'] > threshold_down) | (test_data['down_bytes'] < lower_bound_down) | (test_data['down_bytes'] > upper_bound_down)]\n",
    "# in the table anomalies_down add the countries and organizations from source IP and destination IP\n",
    "anomalies_down['dst_country'] = anomalies_down['dst_ip'].apply(lambda x: gi.country_code_by_addr(x))\n",
    "anomalies_down['dst_org'] = anomalies_down['dst_ip'].apply(lambda x: gi2.org_by_addr(x))\n",
    "\n"
   ]
  },
  {
   "cell_type": "code",
   "execution_count": 9,
   "metadata": {},
   "outputs": [
    {
     "ename": "KeyboardInterrupt",
     "evalue": "",
     "output_type": "error",
     "traceback": [
      "\u001b[0;31m---------------------------------------------------------------------------\u001b[0m",
      "\u001b[0;31mKeyboardInterrupt\u001b[0m                         Traceback (most recent call last)",
      "Cell \u001b[0;32mIn[9], line 5\u001b[0m\n\u001b[1;32m      3\u001b[0m test_data[\u001b[39m'\u001b[39m\u001b[39msrc_org\u001b[39m\u001b[39m'\u001b[39m] \u001b[39m=\u001b[39m test_data[\u001b[39m'\u001b[39m\u001b[39msrc_ip\u001b[39m\u001b[39m'\u001b[39m]\u001b[39m.\u001b[39mapply(\u001b[39mlambda\u001b[39;00m x: gi2\u001b[39m.\u001b[39morg_by_addr(x))\n\u001b[1;32m      4\u001b[0m test_data[\u001b[39m'\u001b[39m\u001b[39mdst_country\u001b[39m\u001b[39m'\u001b[39m] \u001b[39m=\u001b[39m test_data[\u001b[39m'\u001b[39m\u001b[39mdst_ip\u001b[39m\u001b[39m'\u001b[39m]\u001b[39m.\u001b[39mapply(\u001b[39mlambda\u001b[39;00m x: gi\u001b[39m.\u001b[39mcountry_code_by_addr(x))\n\u001b[0;32m----> 5\u001b[0m test_data[\u001b[39m'\u001b[39m\u001b[39mdst_org\u001b[39m\u001b[39m'\u001b[39m] \u001b[39m=\u001b[39m test_data[\u001b[39m'\u001b[39;49m\u001b[39mdst_ip\u001b[39;49m\u001b[39m'\u001b[39;49m]\u001b[39m.\u001b[39;49mapply(\u001b[39mlambda\u001b[39;49;00m x: gi2\u001b[39m.\u001b[39;49morg_by_addr(x))\n",
      "File \u001b[0;32m~/.local/lib/python3.10/site-packages/pandas/core/series.py:4626\u001b[0m, in \u001b[0;36mSeries.apply\u001b[0;34m(self, func, convert_dtype, args, **kwargs)\u001b[0m\n\u001b[1;32m   4516\u001b[0m \u001b[39mdef\u001b[39;00m \u001b[39mapply\u001b[39m(\n\u001b[1;32m   4517\u001b[0m     \u001b[39mself\u001b[39m,\n\u001b[1;32m   4518\u001b[0m     func: AggFuncType,\n\u001b[0;32m   (...)\u001b[0m\n\u001b[1;32m   4521\u001b[0m     \u001b[39m*\u001b[39m\u001b[39m*\u001b[39mkwargs,\n\u001b[1;32m   4522\u001b[0m ) \u001b[39m-\u001b[39m\u001b[39m>\u001b[39m DataFrame \u001b[39m|\u001b[39m Series:\n\u001b[1;32m   4523\u001b[0m     \u001b[39m\"\"\"\u001b[39;00m\n\u001b[1;32m   4524\u001b[0m \u001b[39m    Invoke function on values of Series.\u001b[39;00m\n\u001b[1;32m   4525\u001b[0m \n\u001b[0;32m   (...)\u001b[0m\n\u001b[1;32m   4624\u001b[0m \u001b[39m    dtype: float64\u001b[39;00m\n\u001b[1;32m   4625\u001b[0m \u001b[39m    \"\"\"\u001b[39;00m\n\u001b[0;32m-> 4626\u001b[0m     \u001b[39mreturn\u001b[39;00m SeriesApply(\u001b[39mself\u001b[39;49m, func, convert_dtype, args, kwargs)\u001b[39m.\u001b[39;49mapply()\n",
      "File \u001b[0;32m~/.local/lib/python3.10/site-packages/pandas/core/apply.py:1025\u001b[0m, in \u001b[0;36mSeriesApply.apply\u001b[0;34m(self)\u001b[0m\n\u001b[1;32m   1022\u001b[0m     \u001b[39mreturn\u001b[39;00m \u001b[39mself\u001b[39m\u001b[39m.\u001b[39mapply_str()\n\u001b[1;32m   1024\u001b[0m \u001b[39m# self.f is Callable\u001b[39;00m\n\u001b[0;32m-> 1025\u001b[0m \u001b[39mreturn\u001b[39;00m \u001b[39mself\u001b[39;49m\u001b[39m.\u001b[39;49mapply_standard()\n",
      "File \u001b[0;32m~/.local/lib/python3.10/site-packages/pandas/core/apply.py:1076\u001b[0m, in \u001b[0;36mSeriesApply.apply_standard\u001b[0;34m(self)\u001b[0m\n\u001b[1;32m   1074\u001b[0m     \u001b[39melse\u001b[39;00m:\n\u001b[1;32m   1075\u001b[0m         values \u001b[39m=\u001b[39m obj\u001b[39m.\u001b[39mastype(\u001b[39mobject\u001b[39m)\u001b[39m.\u001b[39m_values\n\u001b[0;32m-> 1076\u001b[0m         mapped \u001b[39m=\u001b[39m lib\u001b[39m.\u001b[39;49mmap_infer(\n\u001b[1;32m   1077\u001b[0m             values,\n\u001b[1;32m   1078\u001b[0m             f,\n\u001b[1;32m   1079\u001b[0m             convert\u001b[39m=\u001b[39;49m\u001b[39mself\u001b[39;49m\u001b[39m.\u001b[39;49mconvert_dtype,\n\u001b[1;32m   1080\u001b[0m         )\n\u001b[1;32m   1082\u001b[0m \u001b[39mif\u001b[39;00m \u001b[39mlen\u001b[39m(mapped) \u001b[39mand\u001b[39;00m \u001b[39misinstance\u001b[39m(mapped[\u001b[39m0\u001b[39m], ABCSeries):\n\u001b[1;32m   1083\u001b[0m     \u001b[39m# GH#43986 Need to do list(mapped) in order to get treated as nested\u001b[39;00m\n\u001b[1;32m   1084\u001b[0m     \u001b[39m#  See also GH#25959 regarding EA support\u001b[39;00m\n\u001b[1;32m   1085\u001b[0m     \u001b[39mreturn\u001b[39;00m obj\u001b[39m.\u001b[39m_constructor_expanddim(\u001b[39mlist\u001b[39m(mapped), index\u001b[39m=\u001b[39mobj\u001b[39m.\u001b[39mindex)\n",
      "File \u001b[0;32m~/.local/lib/python3.10/site-packages/pandas/_libs/lib.pyx:2834\u001b[0m, in \u001b[0;36mpandas._libs.lib.map_infer\u001b[0;34m()\u001b[0m\n",
      "Cell \u001b[0;32mIn[9], line 5\u001b[0m, in \u001b[0;36m<lambda>\u001b[0;34m(x)\u001b[0m\n\u001b[1;32m      3\u001b[0m test_data[\u001b[39m'\u001b[39m\u001b[39msrc_org\u001b[39m\u001b[39m'\u001b[39m] \u001b[39m=\u001b[39m test_data[\u001b[39m'\u001b[39m\u001b[39msrc_ip\u001b[39m\u001b[39m'\u001b[39m]\u001b[39m.\u001b[39mapply(\u001b[39mlambda\u001b[39;00m x: gi2\u001b[39m.\u001b[39morg_by_addr(x))\n\u001b[1;32m      4\u001b[0m test_data[\u001b[39m'\u001b[39m\u001b[39mdst_country\u001b[39m\u001b[39m'\u001b[39m] \u001b[39m=\u001b[39m test_data[\u001b[39m'\u001b[39m\u001b[39mdst_ip\u001b[39m\u001b[39m'\u001b[39m]\u001b[39m.\u001b[39mapply(\u001b[39mlambda\u001b[39;00m x: gi\u001b[39m.\u001b[39mcountry_code_by_addr(x))\n\u001b[0;32m----> 5\u001b[0m test_data[\u001b[39m'\u001b[39m\u001b[39mdst_org\u001b[39m\u001b[39m'\u001b[39m] \u001b[39m=\u001b[39m test_data[\u001b[39m'\u001b[39m\u001b[39mdst_ip\u001b[39m\u001b[39m'\u001b[39m]\u001b[39m.\u001b[39mapply(\u001b[39mlambda\u001b[39;00m x: gi2\u001b[39m.\u001b[39;49morg_by_addr(x))\n",
      "File \u001b[0;32m~/.local/lib/python3.10/site-packages/pygeoip/__init__.py:518\u001b[0m, in \u001b[0;36mGeoIP.org_by_addr\u001b[0;34m(self, addr)\u001b[0m\n\u001b[1;32m    515\u001b[0m     \u001b[39mraise\u001b[39;00m GeoIPError(message)\n\u001b[1;32m    517\u001b[0m ipnum \u001b[39m=\u001b[39m util\u001b[39m.\u001b[39mip2long(addr)\n\u001b[0;32m--> 518\u001b[0m \u001b[39mreturn\u001b[39;00m \u001b[39mself\u001b[39;49m\u001b[39m.\u001b[39;49m_get_org(ipnum)\n",
      "File \u001b[0;32m~/.local/lib/python3.10/site-packages/pygeoip/__init__.py:250\u001b[0m, in \u001b[0;36mGeoIP._get_org\u001b[0;34m(self, ipnum)\u001b[0m\n\u001b[1;32m    243\u001b[0m \u001b[39mdef\u001b[39;00m \u001b[39m_get_org\u001b[39m(\u001b[39mself\u001b[39m, ipnum):\n\u001b[1;32m    244\u001b[0m     \u001b[39m\"\"\"\u001b[39;00m\n\u001b[1;32m    245\u001b[0m \u001b[39m    Seek and return organization or ISP name for ipnum.\u001b[39;00m\n\u001b[1;32m    246\u001b[0m \u001b[39m    Return org/isp name.\u001b[39;00m\n\u001b[1;32m    247\u001b[0m \n\u001b[1;32m    248\u001b[0m \u001b[39m    :arg ipnum: Result of ip2long conversion\u001b[39;00m\n\u001b[1;32m    249\u001b[0m \u001b[39m    \"\"\"\u001b[39;00m\n\u001b[0;32m--> 250\u001b[0m     seek_org \u001b[39m=\u001b[39m \u001b[39mself\u001b[39;49m\u001b[39m.\u001b[39;49m_seek_country(ipnum)\n\u001b[1;32m    251\u001b[0m     \u001b[39mif\u001b[39;00m seek_org \u001b[39m==\u001b[39m \u001b[39mself\u001b[39m\u001b[39m.\u001b[39m_databaseSegments:\n\u001b[1;32m    252\u001b[0m         \u001b[39mreturn\u001b[39;00m \u001b[39mNone\u001b[39;00m\n",
      "File \u001b[0;32m~/.local/lib/python3.10/site-packages/pygeoip/__init__.py:227\u001b[0m, in \u001b[0;36mGeoIP._seek_country\u001b[0;34m(self, ipnum)\u001b[0m\n\u001b[1;32m    225\u001b[0m     \u001b[39mfor\u001b[39;00m j \u001b[39min\u001b[39;00m \u001b[39mrange\u001b[39m(\u001b[39mself\u001b[39m\u001b[39m.\u001b[39m_recordLength):\n\u001b[1;32m    226\u001b[0m         byte \u001b[39m=\u001b[39m buf[\u001b[39mself\u001b[39m\u001b[39m.\u001b[39m_recordLength \u001b[39m*\u001b[39m i \u001b[39m+\u001b[39m j]\n\u001b[0;32m--> 227\u001b[0m         x[i] \u001b[39m+\u001b[39m\u001b[39m=\u001b[39m \u001b[39mord\u001b[39m(byte) \u001b[39m<<\u001b[39m (j \u001b[39m*\u001b[39m \u001b[39m8\u001b[39m)\n\u001b[1;32m    228\u001b[0m \u001b[39mif\u001b[39;00m ipnum \u001b[39m&\u001b[39m (\u001b[39m1\u001b[39m \u001b[39m<<\u001b[39m depth):\n\u001b[1;32m    229\u001b[0m     \u001b[39mif\u001b[39;00m x[\u001b[39m1\u001b[39m] \u001b[39m>\u001b[39m\u001b[39m=\u001b[39m \u001b[39mself\u001b[39m\u001b[39m.\u001b[39m_databaseSegments:\n",
      "\u001b[0;31mKeyboardInterrupt\u001b[0m: "
     ]
    }
   ],
   "source": [
    "# from all data, get the organization and country of the source IP and destination IP\n",
    "test_data['src_country'] = test_data['src_ip'].apply(lambda x: gi.country_code_by_addr(x))\n",
    "test_data['src_org'] = test_data['src_ip'].apply(lambda x: gi2.org_by_addr(x))\n",
    "test_data['dst_country'] = test_data['dst_ip'].apply(lambda x: gi.country_code_by_addr(x))\n",
    "test_data['dst_org'] = test_data['dst_ip'].apply(lambda x: gi2.org_by_addr(x))\n"
   ]
  }
 ],
 "metadata": {
  "kernelspec": {
   "display_name": "Python 3",
   "language": "python",
   "name": "python3"
  },
  "language_info": {
   "codemirror_mode": {
    "name": "ipython",
    "version": 3
   },
   "file_extension": ".py",
   "mimetype": "text/x-python",
   "name": "python",
   "nbconvert_exporter": "python",
   "pygments_lexer": "ipython3",
   "version": "3.10.6"
  },
  "orig_nbformat": 4
 },
 "nbformat": 4,
 "nbformat_minor": 2
}
