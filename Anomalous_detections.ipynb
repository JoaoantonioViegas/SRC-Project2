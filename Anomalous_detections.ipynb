{
 "cells": [
  {
   "cell_type": "code",
   "execution_count": 1,
   "metadata": {},
   "outputs": [
    {
     "name": "stdout",
     "output_type": "stream",
     "text": [
      "PT AS1930 Fundacao para a Ciencia e a Tecnologia, I.P.\n",
      "193.136.173.58\n",
      "dns.ua.pt.\n",
      "16833951313\n",
      "16378.306817341558\n",
      "8664.0\n",
      "1172915.7149008764\n"
     ]
    }
   ],
   "source": [
    "import pandas as pd\n",
    "import numpy as np\n",
    "import ipaddress\n",
    "import dns.resolver\n",
    "import dns.reversename\n",
    "import pygeoip\n",
    "import matplotlib.pyplot as plt \n",
    "\n",
    "anomalous_datafile='test5.parquet'\n",
    "normal_datafile='data5.parquet'\n",
    "\n",
    "### IP geolocalization\n",
    "gi=pygeoip.GeoIP('./GeoIP.dat')\n",
    "gi2=pygeoip.GeoIP('./GeoIPASNum.dat')\n",
    "addr='193.136.73.21'\n",
    "cc=gi.country_code_by_addr(addr)\n",
    "org=gi2.org_by_addr(addr)\n",
    "print(cc,org)\n",
    "\n",
    "### DNS resolution\n",
    "addr=dns.resolver.resolve(\"www.ua.pt\", 'A')\n",
    "for a in addr:\n",
    "    print(a)\n",
    "    \n",
    "### Reverse DNS resolution    \n",
    "name=dns.reversename.from_address(\"193.136.172.20\")\n",
    "addr=dns.resolver.resolve(name, 'PTR')\n",
    "for a in addr:\n",
    "    print(a)\n",
    "\n",
    "### Read parquet data files\n",
    "anamalous_data=pd.read_parquet(anomalous_datafile)\n",
    "normal_data=pd.read_parquet(normal_datafile)\n",
    "\n",
    "# Volume of traffic per Upload\n",
    "# Average number of uploaded bytes per flow\n",
    "\n",
    "# Sum all the up_bytes in the column up_bytes\n",
    "sumUpBytes=anamalous_data['up_bytes'].sum()\n",
    "print(sumUpBytes)\n",
    "\n",
    "# Calculate the average of the up_bytes in the column up_bytes\n",
    "avgUpBytes=anamalous_data['up_bytes'].mean()\n",
    "print(avgUpBytes)\n",
    "\n",
    "# Calculate the median of the up_bytes in the column up_bytes\n",
    "medianUpBytes=anamalous_data['up_bytes'].median()\n",
    "print(medianUpBytes)\n",
    "\n",
    "# Calculate the standard deviation of the up_bytes in the column up_bytes\n",
    "stdUpBytes=anamalous_data['up_bytes'].std()\n",
    "print(stdUpBytes)"
   ]
  },
  {
   "cell_type": "code",
   "execution_count": 2,
   "metadata": {},
   "outputs": [],
   "source": [
    "### Read parquet data files\n",
    "anomalous_data=pd.read_parquet(anomalous_datafile)\n",
    "normal_data=pd.read_parquet(normal_datafile)\n",
    "\n",
    "normal = normal_data[['up_bytes','down_bytes']].describe()\n",
    "anomal = anamalous_data[['up_bytes','down_bytes']].describe()"
   ]
  },
  {
   "cell_type": "code",
   "execution_count": 3,
   "metadata": {},
   "outputs": [],
   "source": [
    "# Para o método do desvio padrão\n",
    "mean_up = normal_data['up_bytes'].mean()\n",
    "std_up = normal_data['up_bytes'].std()\n",
    "threshold_up = mean_up + 3*std_up\n",
    "\n",
    "mean_down = normal_data['down_bytes'].mean()\n",
    "std_down = normal_data['down_bytes'].std()\n",
    "threshold_down = mean_down + 3*std_down\n",
    "\n",
    "# Para o método IQR\n",
    "Q1_up = normal_data['up_bytes'].quantile(0.25)\n",
    "Q3_up = normal_data['up_bytes'].quantile(0.75)\n",
    "IQR_up = Q3_up - Q1_up\n",
    "lower_bound_up = Q1_up - 1.5*IQR_up\n",
    "upper_bound_up = Q3_up + 1.5*IQR_up\n",
    "\n",
    "Q1_down = normal_data['down_bytes'].quantile(0.25)\n",
    "Q3_down = normal_data['down_bytes'].quantile(0.75)\n",
    "IQR_down = Q3_down - Q1_down\n",
    "lower_bound_down = Q1_down - 1.5*IQR_down\n",
    "upper_bound_down = Q3_down + 1.5*IQR_down\n"
   ]
  },
  {
   "cell_type": "code",
   "execution_count": 4,
   "metadata": {},
   "outputs": [
    {
     "name": "stderr",
     "output_type": "stream",
     "text": [
      "/tmp/ipykernel_59253/719860936.py:7: SettingWithCopyWarning: \n",
      "A value is trying to be set on a copy of a slice from a DataFrame.\n",
      "Try using .loc[row_indexer,col_indexer] = value instead\n",
      "\n",
      "See the caveats in the documentation: https://pandas.pydata.org/pandas-docs/stable/user_guide/indexing.html#returning-a-view-versus-a-copy\n",
      "  anomalies_up['dst_country'] = anomalies_up['dst_ip'].apply(lambda x: gi.country_code_by_addr(x))\n",
      "/tmp/ipykernel_59253/719860936.py:8: SettingWithCopyWarning: \n",
      "A value is trying to be set on a copy of a slice from a DataFrame.\n",
      "Try using .loc[row_indexer,col_indexer] = value instead\n",
      "\n",
      "See the caveats in the documentation: https://pandas.pydata.org/pandas-docs/stable/user_guide/indexing.html#returning-a-view-versus-a-copy\n",
      "  anomalies_up['dst_org'] = anomalies_up['dst_ip'].apply(lambda x: gi2.org_by_addr(x))\n",
      "/tmp/ipykernel_59253/719860936.py:12: SettingWithCopyWarning: \n",
      "A value is trying to be set on a copy of a slice from a DataFrame.\n",
      "Try using .loc[row_indexer,col_indexer] = value instead\n",
      "\n",
      "See the caveats in the documentation: https://pandas.pydata.org/pandas-docs/stable/user_guide/indexing.html#returning-a-view-versus-a-copy\n",
      "  anomalies_down['dst_country'] = anomalies_down['dst_ip'].apply(lambda x: gi.country_code_by_addr(x))\n",
      "/tmp/ipykernel_59253/719860936.py:13: SettingWithCopyWarning: \n",
      "A value is trying to be set on a copy of a slice from a DataFrame.\n",
      "Try using .loc[row_indexer,col_indexer] = value instead\n",
      "\n",
      "See the caveats in the documentation: https://pandas.pydata.org/pandas-docs/stable/user_guide/indexing.html#returning-a-view-versus-a-copy\n",
      "  anomalies_down['dst_org'] = anomalies_down['dst_ip'].apply(lambda x: gi2.org_by_addr(x))\n"
     ]
    }
   ],
   "source": [
    "# Carregando o conjunto de dados de teste\n",
    "test_data = pd.read_parquet('test5.parquet')\n",
    "\n",
    "# Identificando anomalias\n",
    "anomalies_up = test_data[(test_data['up_bytes'] > threshold_up) | (test_data['up_bytes'] < lower_bound_up) | (test_data['up_bytes'] > upper_bound_up)]\n",
    "# in the table anomalies_up add the countries and organizations from source IP and destination IP\n",
    "anomalies_up['dst_country'] = anomalies_up['dst_ip'].apply(lambda x: gi.country_code_by_addr(x))\n",
    "anomalies_up['dst_org'] = anomalies_up['dst_ip'].apply(lambda x: gi2.org_by_addr(x))\n",
    "\n",
    "anomalies_down = test_data[(test_data['down_bytes'] > threshold_down) | (test_data['down_bytes'] < lower_bound_down) | (test_data['down_bytes'] > upper_bound_down)]\n",
    "# in the table anomalies_down add the countries and organizations from source IP and destination IP\n",
    "anomalies_down['dst_country'] = anomalies_down['dst_ip'].apply(lambda x: gi.country_code_by_addr(x))\n",
    "anomalies_down['dst_org'] = anomalies_down['dst_ip'].apply(lambda x: gi2.org_by_addr(x))\n",
    "\n"
   ]
  },
  {
   "cell_type": "code",
   "execution_count": 5,
   "metadata": {},
   "outputs": [],
   "source": [
    "# from all data, get the organization and country of the source IP and destination IP\n",
    "test_data['src_country'] = test_data['src_ip'].apply(lambda x: gi.country_code_by_addr(x))\n",
    "test_data['src_org'] = test_data['src_ip'].apply(lambda x: gi2.org_by_addr(x))\n",
    "test_data['dst_country'] = test_data['dst_ip'].apply(lambda x: gi.country_code_by_addr(x))\n",
    "test_data['dst_org'] = test_data['dst_ip'].apply(lambda x: gi2.org_by_addr(x))\n"
   ]
  },
  {
   "attachments": {},
   "cell_type": "markdown",
   "metadata": {},
   "source": [
    "Detecção de Outliers Baseada em Z-Score\n",
    "\n",
    "O z-score é uma medida estatística que descreve a posição de um valor único dentro de uma distribuição de valores. É calculado como a diferença entre um valor individual e a média do grupo, dividido pelo desvio padrão do grupo. Em outras palavras, o z-score é a quantidade de desvios padrão que um valor individual está da média do grupo.\n",
    "\n",
    "A razão para usar o z-score na detecção de anomalias é que ele permite uma avaliação objetiva de quão \"incomum\" um valor individual é em relação ao restante do grupo. Valores com um z-score absoluto muito alto (por exemplo, maior que 3 ou menor que -3) são aqueles que estão significativamente distantes da média e, portanto, podem ser considerados anomalias ou outliers.\n",
    "\n",
    "A vantagem de usar o z-score é que ele é uma medida padronizada que pode ser usada para comparar valores individuais entre grupos diferentes, mesmo quando os grupos têm médias e desvios padrão diferentes. Além disso, o z-score é útil quando a distribuição dos dados é aproximadamente normal, o que muitas vezes é o caso em muitos contextos práticos."
   ]
  },
  {
   "cell_type": "code",
   "execution_count": null,
   "metadata": {},
   "outputs": [],
   "source": [
    "from scipy.stats import zscore\n",
    "\n",
    "# Calculando o z-score\n",
    "test_data['zscore_up'] = zscore(test_data['up_bytes'])\n",
    "test_data['zscore_down'] = zscore(test_data['down_bytes'])\n",
    "\n",
    "# Definindo os limites para detecção de outliers\n",
    "threshold_zscore = 3\n",
    "\n",
    "# Identificando os outliers\n",
    "outliers_up = test_data[test_data['zscore_up'].abs() > threshold_zscore]\n",
    "outliers_down = test_data[test_data['zscore_down'].abs() > threshold_zscore]\n"
   ]
  },
  {
   "cell_type": "code",
   "execution_count": null,
   "metadata": {},
   "outputs": [],
   "source": [
    "# I need to detect a bootnet coordination between hosts inside the network\n",
    "# From normal_data, get all lines where src_ip and dst_ip are '192.168.105.XX'\n",
    "insiders=normal_data[(normal_data['src_ip'].str.startswith('192.168.105.')) & (normal_data['dst_ip'].str.startswith('192.168.105.'))]\n",
    "insiders_anomal = anamalous_data[(anamalous_data['src_ip'].str.startswith('192.168.105.')) & (anamalous_data['dst_ip'].str.startswith('192.168.105.'))]\n",
    "# From insiders anomal, exclude all lines that are 192.168.105.222 192.168.105.223 192.168.105.229 192.168.105.230 192.168.105.240\n",
    "excluded_ips=['192.168.105.222','192.168.105.223','192.168.105.223','192.168.105.229','192.168.105.230','192.168.105.240']\n",
    "filtered_insiders_anomal=insiders_anomal[~insiders_anomal['src_ip'].isin(excluded_ips) & ~insiders_anomal['dst_ip'].isin(excluded_ips)]\n",
    "\n",
    "\n"
   ]
  }
 ],
 "metadata": {
  "kernelspec": {
   "display_name": "Python 3",
   "language": "python",
   "name": "python3"
  },
  "language_info": {
   "codemirror_mode": {
    "name": "ipython",
    "version": 3
   },
   "file_extension": ".py",
   "mimetype": "text/x-python",
   "name": "python",
   "nbconvert_exporter": "python",
   "pygments_lexer": "ipython3",
   "version": "3.10.6"
  },
  "orig_nbformat": 4
 },
 "nbformat": 4,
 "nbformat_minor": 2
}
