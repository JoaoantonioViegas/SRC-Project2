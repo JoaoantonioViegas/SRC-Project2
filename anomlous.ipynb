{
 "cells": [
  {
   "cell_type": "code",
   "execution_count": 2,
   "metadata": {},
   "outputs": [
    {
     "name": "stdout",
     "output_type": "stream",
     "text": [
      "PT AS1930 Fundacao para a Ciencia e a Tecnologia, I.P.\n",
      "193.136.173.58\n",
      "dns.ua.pt.\n"
     ]
    }
   ],
   "source": [
    "import pandas as pd\n",
    "import numpy as np\n",
    "import ipaddress\n",
    "import dns.resolver\n",
    "import dns.reversename\n",
    "import pygeoip\n",
    "import matplotlib.pyplot as plt \n",
    "\n",
    "datafile='test5.parquet'\n",
    "\n",
    "### IP geolocalization\n",
    "gi=pygeoip.GeoIP('./GeoIP.dat')\n",
    "gi2=pygeoip.GeoIP('./GeoIPASNum.dat')\n",
    "addr='193.136.73.21'\n",
    "cc=gi.country_code_by_addr(addr)\n",
    "org=gi2.org_by_addr(addr)\n",
    "print(cc,org)\n",
    "\n",
    "### DNS resolution\n",
    "addr=dns.resolver.resolve(\"www.ua.pt\", 'A')\n",
    "for a in addr:\n",
    "    print(a)\n",
    "    \n",
    "### Reverse DNS resolution    \n",
    "name=dns.reversename.from_address(\"193.136.172.20\")\n",
    "addr=dns.resolver.resolve(name, 'PTR')\n",
    "for a in addr:\n",
    "    print(a)\n",
    "\n",
    "### Read parquet data files\n",
    "data=pd.read_parquet(datafile)\n",
    "data=data.head(10000)\n",
    "#print(data.to_string())\n",
    "\n",
    "# explore data with head(), info(), describe(), ...\n",
    "\n",
    "# Number of packets per protocol and ports, and is source CC\n",
    "Anomalous_nP=data.groupby(['proto','port'])['up_bytes'].count()\n",
    "Anomalous_nP=data.groupby(['proto','port'])['up_bytes'].count().to_frame(name='nP')\n",
    "Anomalous_nP=data.groupby(['proto','port'])['up_bytes'].count().reset_index(name='nP')\n",
    "Anomalous_nP=data.groupby(['proto','port'])['up_bytes'].count().reset_index(name='nP').sort_values(by=['nP'],ascending=False)\n",
    "\n",
    "# Give me a table of unique source IPs, with the number of packets sent by each one\n",
    "Anomalous_uniqIP=data.groupby(['src_ip'])['up_bytes'].count().reset_index(name='nP').sort_values(by=['nP'],ascending=False)\n",
    "\n",
    "# Table with the number of packets exchanged between each pair of IPs\n",
    "Anomalous_nPbetIPs=data.groupby(['src_ip','dst_ip'])['up_bytes'].count().reset_index(name='nP').sort_values(by=['nP'],ascending=False)\n",
    "\n",
    "# Calc the min, max, avg, std dev of the number of packets for category of src_ip, dst_ip, proto, port\n",
    "Anomalous_nPbetIPs=data.groupby(['src_ip','dst_ip','proto','port'])['up_bytes'].count().reset_index(name='nP').sort_values(by=['nP'],ascending=False)\n",
    "\n",
    "# for each source IP, give me the max number of packets sent to any destination IP\n",
    "Anomalous_maxP=data.groupby(['src_ip'])['up_bytes'].max().reset_index(name='maxP').sort_values(by=['maxP'],ascending=False)\n",
    "\n",
    "# for each source IP, give me the minimum number of packets sent to any destination IP, and the destination IP\n",
    "Anomalous_minP=data.groupby(['src_ip'])['up_bytes'].min().reset_index(name='minP').sort_values(by=['minP'],ascending=False)\n",
    "\n",
    "# for each source IP, give me the average number of packets sent to any destination IP\n",
    "Anomalous_avgP=data.groupby(['src_ip'])['up_bytes'].mean().reset_index(name='avgP').sort_values(by=['avgP'],ascending=False)\n",
    "\n",
    "Anomalous_maxPack=data['up_bytes'].max()\n",
    "\n",
    "Anomalous_minPack=data['up_bytes'].min()\n",
    "\n",
    "Anomalous_avgPack=data['up_bytes'].mean()\n",
    "\n",
    "org=data['dst_ip'].apply(lambda y:gi2.org_by_addr(y)).to_frame(name='org')\n",
    "\n",
    "sum_packets_by_org=org.groupby(['org'])['org'].count().reset_index(name='count').sort_values(by=['count'],ascending=False)"
   ]
  }
 ],
 "metadata": {
  "kernelspec": {
   "display_name": "Python 3",
   "language": "python",
   "name": "python3"
  },
  "language_info": {
   "codemirror_mode": {
    "name": "ipython",
    "version": 3
   },
   "file_extension": ".py",
   "mimetype": "text/x-python",
   "name": "python",
   "nbconvert_exporter": "python",
   "pygments_lexer": "ipython3",
   "version": "3.10.6"
  },
  "orig_nbformat": 4
 },
 "nbformat": 4,
 "nbformat_minor": 2
}
